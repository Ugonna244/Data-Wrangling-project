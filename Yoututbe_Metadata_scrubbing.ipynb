{
  "cells": [
    {
      "cell_type": "markdown",
      "metadata": {
        "id": "view-in-github",
        "colab_type": "text"
      },
      "source": [
        "<a href=\"https://colab.research.google.com/github/Ugonna244/Data-Wrangling-project/blob/master/Yoututbe_Metadata_scrubbing.ipynb\" target=\"_parent\"><img src=\"https://colab.research.google.com/assets/colab-badge.svg\" alt=\"Open In Colab\"/></a>"
      ]
    },
    {
      "cell_type": "markdown",
      "metadata": {
        "id": "KM2b1X8bBp0f"
      },
      "source": [
        "##**A Micro-service for Video Metadata Scrubbing**\n",
        "\n",
        "\n",
        "\n"
      ]
    },
    {
      "cell_type": "markdown",
      "metadata": {
        "id": "aZmvGLz222nf"
      },
      "source": [
        "The main function for scraping the car type video from the **car_type_label.txt** file and downloading the data by youtube-dl comand "
      ]
    },
    {
      "cell_type": "code",
      "execution_count": null,
      "metadata": {
        "id": "NT4yTRJHBvhN"
      },
      "outputs": [],
      "source": [
        ""
      ]
    },
    {
      "cell_type": "markdown",
      "metadata": {
        "id": "fVl13qDlBnQV"
      },
      "source": [
        ""
      ]
    },
    {
      "cell_type": "code",
      "execution_count": null,
      "metadata": {
        "colab": {
          "base_uri": "https://localhost:8080/"
        },
        "id": "_UdPCpuAYlP5",
        "outputId": "ba928e6c-a1a9-4757-a5e2-77c9a564b4a2"
      },
      "outputs": [
        {
          "name": "stdout",
          "output_type": "stream",
          "text": [
            "Mounted at /content/gdrive\n"
          ]
        }
      ],
      "source": [
        "from google.colab import drive\n",
        "drive.mount('/content/gdrive')\n",
        "!mkdir \"/content/gdrive/My Drive/yolo_car_database/\"\n",
        "\n",
        "# !cp /content \"gdrive/My Drive/yolo_car_databe\""
      ]
    },
    {
      "cell_type": "markdown",
      "source": [
        "##**Connect to the cloud for storage file**"
      ],
      "metadata": {
        "id": "QSjXGc-C1DNR"
      }
    },
    {
      "cell_type": "code",
      "execution_count": null,
      "metadata": {
        "colab": {
          "base_uri": "https://localhost:8080/"
        },
        "id": "5EUxgSD3IWTU",
        "outputId": "7c2791de-ee3e-4df6-dd47-94620b13c76e"
      },
      "outputs": [
        {
          "name": "stdout",
          "output_type": "stream",
          "text": [
            "ls: cannot access '/content/gdrive/My': No such file or directory\n",
            "ls: cannot access 'Drive/yolo_car_database': No such file or directory\n"
          ]
        }
      ],
      "source": [
        "!ls /content/gdrive/My Drive/yolo_car_database"
      ]
    },
    {
      "cell_type": "code",
      "execution_count": null,
      "metadata": {
        "id": "zH1ijJbnUdmm"
      },
      "outputs": [],
      "source": [
        "import urllib.request\n",
        "from bs4 import BeautifulSoup\n",
        " \n",
        "textToSearch = 'python tutorials'\n",
        "query = urllib.parse.quote(textToSearch)\n",
        "url = \"https://www.youtube.com/results?search_query=\" + query\n",
        "response = urllib.request.urlopen(url)\n",
        "html = response.read()\n",
        "soup = BeautifulSoup(html, 'html.parser')\n",
        "for vid in soup.findAll(attrs={'class':'yt-uix-tile-link'}):\n",
        "    if not vid['href'].startswith(\"https://googleads.g.doubleclick.net/\"):\n",
        "        print('https://www.youtube.com' + vid['href'])"
      ]
    },
    {
      "cell_type": "code",
      "execution_count": null,
      "metadata": {
        "id": "YGMop8AvU2zF"
      },
      "outputs": [],
      "source": [
        "!pip install youtube-dl\n",
        "!echo '' > ford_video_list.txt\n",
        "!chmod 755 ford_video_list.txt\n",
        " \n",
        "!youtube-dl --match-title 'ford' --add-metadata --write-thumbnail --list-thumbnails    --mark-watched --write-info-json 'ford_video_description_json.txt' --write-description 'ford_video_description.txt'  --cookies='Search-youtube-url-file.txt' --ignore-errors  --skip-download --get-url -f bestvideo+bestaudio/best --default-search \"ytsearch2000:\" \"Ford Festiva\" >> ford_video_list.txt \n",
        " \n",
        "!echo '*****End of test 1 ******'"
      ]
    },
    {
      "cell_type": "markdown",
      "source": [
        "##**Install youtube-dl and run it**"
      ],
      "metadata": {
        "id": "FPUa1Fnj1Tz2"
      }
    },
    {
      "cell_type": "code",
      "execution_count": null,
      "metadata": {
        "colab": {
          "base_uri": "https://localhost:8080/"
        },
        "id": "woKL5Q5m9fv1",
        "outputId": "6585e179-48f5-4a16-86ab-f2a258351c41"
      },
      "outputs": [
        {
          "name": "stdout",
          "output_type": "stream",
          "text": [
            "Collecting youtube-dl\n",
            "  Using cached youtube_dl-2021.12.17-py2.py3-none-any.whl (1.9 MB)\n",
            "Installing collected packages: youtube-dl\n",
            "Successfully installed youtube-dl-2021.12.17\n",
            "[debug] System config: []\n",
            "[debug] User config: []\n",
            "[debug] Custom config: []\n",
            "[debug] Command-line args: ['--match-title', 'ford', '--add-metadata', '--write-thumbnail', '--list-thumbnails', '--mark-watched', '--write-info-json', 'ford_video_description_json.txt', '--write-description', 'ford_video_description.txt', '--rm-cache-dir', '--force-ipv4', '--verbose', '--cookies=Search-youtube-url-file.txt', '--ignore-errors', '--skip-download', '--get-url', '-f', 'bestvideo+bestaudio/best', '--default-search', 'ytsearch10:Ford Festiva#']\n",
            "[debug] Encodings: locale UTF-8, fs utf-8, out UTF-8, pref UTF-8\n",
            "[debug] youtube-dl version 2021.12.17\n",
            "[debug] Python version 3.7.12 (CPython) - Linux-5.4.144+-x86_64-with-Ubuntu-18.04-bionic\n",
            "[debug] exe versions: ffmpeg 3.4.8, ffprobe 3.4.8\n",
            "[debug] Proxy map: {}\n",
            "*****End of test 1 ******\n"
          ]
        }
      ],
      "source": [
        "!pip install youtube-dl\n",
        "!echo '' > ford_video_list.txt\n",
        "!chmod 755 ford_video_list.txt\n",
        " \n",
        "!youtube-dl --match-title 'ford' --add-metadata --write-thumbnail --list-thumbnails    --mark-watched --write-info-json 'ford_video_description_json.txt' --write-description 'ford_video_description.txt' --rm-cache-dir --force-ipv4 --verbose  --cookies='Search-youtube-url-file.txt' --ignore-errors  --skip-download --get-url -f bestvideo+bestaudio/best --default-search \"ytsearch10:Ford Festiva\"# >> ford_video_list.txt \n",
        " \n",
        "!echo '*****End of test 1 ******'"
      ]
    },
    {
      "cell_type": "markdown",
      "source": [
        "##**Employ youtube search and display output as a JSON file**"
      ],
      "metadata": {
        "id": "zfT_yde71p8Z"
      }
    },
    {
      "cell_type": "code",
      "execution_count": null,
      "metadata": {
        "colab": {
          "base_uri": "https://localhost:8080/"
        },
        "id": "DkfA-21JU4fl",
        "outputId": "2c67fa2d-c0e8-4203-fc01-d2d10f9e3900"
      },
      "outputs": [
        {
          "name": "stdout",
          "output_type": "stream",
          "text": [
            "Collecting youtube-search-python\n",
            "  Downloading youtube_search_python-1.5.3-py3-none-any.whl (73 kB)\n",
            "\u001b[?25l\r\u001b[K     |████▌                           | 10 kB 28.6 MB/s eta 0:00:01\r\u001b[K     |█████████                       | 20 kB 36.6 MB/s eta 0:00:01\r\u001b[K     |█████████████▍                  | 30 kB 41.2 MB/s eta 0:00:01\r\u001b[K     |█████████████████▉              | 40 kB 45.0 MB/s eta 0:00:01\r\u001b[K     |██████████████████████▍         | 51 kB 23.7 MB/s eta 0:00:01\r\u001b[K     |██████████████████████████▉     | 61 kB 19.5 MB/s eta 0:00:01\r\u001b[K     |███████████████████████████████▎| 71 kB 19.8 MB/s eta 0:00:01\r\u001b[K     |████████████████████████████████| 73 kB 1.5 MB/s \n",
            "\u001b[?25hCollecting httpx>=0.14.2\n",
            "  Downloading httpx-0.21.1-py3-none-any.whl (83 kB)\n",
            "\u001b[?25l\r\u001b[K     |████                            | 10 kB 35.6 MB/s eta 0:00:01\r\u001b[K     |███████▉                        | 20 kB 42.2 MB/s eta 0:00:01\r\u001b[K     |███████████▉                    | 30 kB 48.7 MB/s eta 0:00:01\r\u001b[K     |███████████████▊                | 40 kB 49.5 MB/s eta 0:00:01\r\u001b[K     |███████████████████▋            | 51 kB 52.7 MB/s eta 0:00:01\r\u001b[K     |███████████████████████▋        | 61 kB 56.8 MB/s eta 0:00:01\r\u001b[K     |███████████████████████████▌    | 71 kB 58.3 MB/s eta 0:00:01\r\u001b[K     |███████████████████████████████▍| 81 kB 60.6 MB/s eta 0:00:01\r\u001b[K     |████████████████████████████████| 83 kB 1.4 MB/s \n",
            "\u001b[?25hRequirement already satisfied: charset-normalizer in /usr/local/lib/python3.7/dist-packages (from httpx>=0.14.2->youtube-search-python) (2.0.8)\n",
            "Collecting sniffio\n",
            "  Downloading sniffio-1.2.0-py3-none-any.whl (10 kB)\n",
            "Collecting rfc3986[idna2008]<2,>=1.3\n",
            "  Downloading rfc3986-1.5.0-py2.py3-none-any.whl (31 kB)\n",
            "Collecting httpcore<0.15.0,>=0.14.0\n",
            "  Downloading httpcore-0.14.3-py3-none-any.whl (56 kB)\n",
            "\u001b[K     |████████████████████████████████| 56 kB 3.8 MB/s \n",
            "\u001b[?25hRequirement already satisfied: certifi in /usr/local/lib/python3.7/dist-packages (from httpx>=0.14.2->youtube-search-python) (2021.10.8)\n",
            "Collecting h11<0.13,>=0.11\n",
            "  Downloading h11-0.12.0-py3-none-any.whl (54 kB)\n",
            "\u001b[K     |████████████████████████████████| 54 kB 2.5 MB/s \n",
            "\u001b[?25hCollecting anyio==3.*\n",
            "  Downloading anyio-3.4.0-py3-none-any.whl (78 kB)\n",
            "\u001b[K     |████████████████████████████████| 78 kB 6.0 MB/s \n",
            "\u001b[?25hRequirement already satisfied: idna>=2.8 in /usr/local/lib/python3.7/dist-packages (from anyio==3.*->httpcore<0.15.0,>=0.14.0->httpx>=0.14.2->youtube-search-python) (2.10)\n",
            "Requirement already satisfied: typing-extensions in /usr/local/lib/python3.7/dist-packages (from anyio==3.*->httpcore<0.15.0,>=0.14.0->httpx>=0.14.2->youtube-search-python) (3.10.0.2)\n",
            "Installing collected packages: sniffio, rfc3986, h11, anyio, httpcore, httpx, youtube-search-python\n",
            "Successfully installed anyio-3.4.0 h11-0.12.0 httpcore-0.14.3 httpx-0.21.1 rfc3986-1.5.0 sniffio-1.2.0 youtube-search-python-1.5.3\n",
            "{\n",
            "    \"search_result\": [\n",
            "        {\n",
            "            \"index\": 0,\n",
            "            \"id\": \"ABuNwLP-z9o\",\n",
            "            \"link\": \"https://www.youtube.com/watch?v=ABuNwLP-z9o\",\n",
            "            \"title\": \"\\ud83d\\udd25 Top 50 NoCopyRightSounds | Best of NCS | Most viewed ! Gaming Music | The Best of All Time | 2021\",\n",
            "            \"channel\": \"Freeme NCS Music\",\n",
            "            \"duration\": \"3:00:24\",\n",
            "            \"views\": 10601314,\n",
            "            \"thumbnails\": [\n",
            "                \"https://img.youtube.com/vi/ABuNwLP-z9o/default.jpg\",\n",
            "                \"https://img.youtube.com/vi/ABuNwLP-z9o/hqdefault.jpg\",\n",
            "                \"https://img.youtube.com/vi/ABuNwLP-z9o/mqdefault.jpg\",\n",
            "                \"https://img.youtube.com/vi/ABuNwLP-z9o/sddefault.jpg\",\n",
            "                \"https://img.youtube.com/vi/ABuNwLP-z9o/maxresdefault.jpg\"\n",
            "            ],\n",
            "            \"channeId\": \"UCG0SzK_t4-Ylf1yZq9Xmi_g\",\n",
            "            \"publishTime\": \"2 years ago\"\n",
            "        },\n",
            "        {\n",
            "            \"index\": 1,\n",
            "            \"id\": \"1D5cxbDbKMc\",\n",
            "            \"link\": \"https://www.youtube.com/watch?v=1D5cxbDbKMc\",\n",
            "            \"title\": \"Top 50 Most Popular Songs by NCS | No Copyright Sounds\",\n",
            "            \"channel\": \"Juice NCS\",\n",
            "            \"duration\": \"3:04:58\",\n",
            "            \"views\": 2433198,\n",
            "            \"thumbnails\": [\n",
            "                \"https://img.youtube.com/vi/1D5cxbDbKMc/default.jpg\",\n",
            "                \"https://img.youtube.com/vi/1D5cxbDbKMc/hqdefault.jpg\",\n",
            "                \"https://img.youtube.com/vi/1D5cxbDbKMc/mqdefault.jpg\",\n",
            "                \"https://img.youtube.com/vi/1D5cxbDbKMc/sddefault.jpg\",\n",
            "                \"https://img.youtube.com/vi/1D5cxbDbKMc/maxresdefault.jpg\"\n",
            "            ],\n",
            "            \"channeId\": \"UCx4eMs7aMyTRRXM5N3xNLsQ\",\n",
            "            \"publishTime\": \"10 months ago\"\n",
            "        },\n",
            "        {\n",
            "            \"index\": 2,\n",
            "            \"id\": \"K4DyBUG242c\",\n",
            "            \"link\": \"https://www.youtube.com/watch?v=K4DyBUG242c\",\n",
            "            \"title\": \"Cartoon - On & On (feat. Daniel Levi) [NCS Release]\",\n",
            "            \"channel\": \"NoCopyrightSounds\",\n",
            "            \"duration\": \"3:28\",\n",
            "            \"views\": 443272879,\n",
            "            \"thumbnails\": [\n",
            "                \"https://img.youtube.com/vi/K4DyBUG242c/default.jpg\",\n",
            "                \"https://img.youtube.com/vi/K4DyBUG242c/hqdefault.jpg\",\n",
            "                \"https://img.youtube.com/vi/K4DyBUG242c/mqdefault.jpg\",\n",
            "                \"https://img.youtube.com/vi/K4DyBUG242c/sddefault.jpg\",\n",
            "                \"https://img.youtube.com/vi/K4DyBUG242c/maxresdefault.jpg\"\n",
            "            ],\n",
            "            \"channeId\": \"UC_aEa8K-EOJ3D6gOs7HcyNg\",\n",
            "            \"publishTime\": \"6 years ago\"\n",
            "        },\n",
            "        {\n",
            "            \"index\": 3,\n",
            "            \"id\": \"JNl1_hRwpXE\",\n",
            "            \"link\": \"https://www.youtube.com/watch?v=JNl1_hRwpXE\",\n",
            "            \"title\": \"NCS: 30 Million Subscriber Mix\",\n",
            "            \"channel\": \"NoCopyrightSounds\",\n",
            "            \"duration\": \"1:35:26\",\n",
            "            \"views\": 8184681,\n",
            "            \"thumbnails\": [\n",
            "                \"https://img.youtube.com/vi/JNl1_hRwpXE/default.jpg\",\n",
            "                \"https://img.youtube.com/vi/JNl1_hRwpXE/hqdefault.jpg\",\n",
            "                \"https://img.youtube.com/vi/JNl1_hRwpXE/mqdefault.jpg\",\n",
            "                \"https://img.youtube.com/vi/JNl1_hRwpXE/sddefault.jpg\",\n",
            "                \"https://img.youtube.com/vi/JNl1_hRwpXE/maxresdefault.jpg\"\n",
            "            ],\n",
            "            \"channeId\": \"UC_aEa8K-EOJ3D6gOs7HcyNg\",\n",
            "            \"publishTime\": \"8 months ago\"\n",
            "        },\n",
            "        {\n",
            "            \"index\": 4,\n",
            "            \"id\": \"ejCRNBpeU7E\",\n",
            "            \"link\": \"https://www.youtube.com/watch?v=ejCRNBpeU7E\",\n",
            "            \"title\": \"DigEx - Trust Me [NCS Release]\",\n",
            "            \"channel\": \"NoCopyrightSounds\",\n",
            "            \"duration\": \"2:53\",\n",
            "            \"views\": 222009,\n",
            "            \"thumbnails\": [\n",
            "                \"https://img.youtube.com/vi/ejCRNBpeU7E/default.jpg\",\n",
            "                \"https://img.youtube.com/vi/ejCRNBpeU7E/hqdefault.jpg\",\n",
            "                \"https://img.youtube.com/vi/ejCRNBpeU7E/mqdefault.jpg\",\n",
            "                \"https://img.youtube.com/vi/ejCRNBpeU7E/sddefault.jpg\",\n",
            "                \"https://img.youtube.com/vi/ejCRNBpeU7E/maxresdefault.jpg\"\n",
            "            ],\n",
            "            \"channeId\": \"UC_aEa8K-EOJ3D6gOs7HcyNg\",\n",
            "            \"publishTime\": \"1 day ago\"\n",
            "        },\n",
            "        {\n",
            "            \"index\": 5,\n",
            "            \"id\": \"3nQNiWdeH2Q\",\n",
            "            \"link\": \"https://www.youtube.com/watch?v=3nQNiWdeH2Q\",\n",
            "            \"title\": \"Janji - Heroes Tonight (feat. Johnning) [NCS Release]\",\n",
            "            \"channel\": \"NoCopyrightSounds\",\n",
            "            \"duration\": \"3:29\",\n",
            "            \"views\": 272475716,\n",
            "            \"thumbnails\": [\n",
            "                \"https://img.youtube.com/vi/3nQNiWdeH2Q/default.jpg\",\n",
            "                \"https://img.youtube.com/vi/3nQNiWdeH2Q/hqdefault.jpg\",\n",
            "                \"https://img.youtube.com/vi/3nQNiWdeH2Q/mqdefault.jpg\",\n",
            "                \"https://img.youtube.com/vi/3nQNiWdeH2Q/sddefault.jpg\",\n",
            "                \"https://img.youtube.com/vi/3nQNiWdeH2Q/maxresdefault.jpg\"\n",
            "            ],\n",
            "            \"channeId\": \"UC_aEa8K-EOJ3D6gOs7HcyNg\",\n",
            "            \"publishTime\": \"6 years ago\"\n",
            "        },\n",
            "        {\n",
            "            \"index\": 6,\n",
            "            \"id\": \"J2X5mJ3HDYE\",\n",
            "            \"link\": \"https://www.youtube.com/watch?v=J2X5mJ3HDYE\",\n",
            "            \"title\": \"DEAF KEV - Invincible [NCS Release]\",\n",
            "            \"channel\": \"NoCopyrightSounds\",\n",
            "            \"duration\": \"4:34\",\n",
            "            \"views\": 254741537,\n",
            "            \"thumbnails\": [\n",
            "                \"https://img.youtube.com/vi/J2X5mJ3HDYE/default.jpg\",\n",
            "                \"https://img.youtube.com/vi/J2X5mJ3HDYE/hqdefault.jpg\",\n",
            "                \"https://img.youtube.com/vi/J2X5mJ3HDYE/mqdefault.jpg\",\n",
            "                \"https://img.youtube.com/vi/J2X5mJ3HDYE/sddefault.jpg\",\n",
            "                \"https://img.youtube.com/vi/J2X5mJ3HDYE/maxresdefault.jpg\"\n",
            "            ],\n",
            "            \"channeId\": \"UC_aEa8K-EOJ3D6gOs7HcyNg\",\n",
            "            \"publishTime\": \"6 years ago\"\n",
            "        },\n",
            "        {\n",
            "            \"index\": 7,\n",
            "            \"id\": \"yJg-Y5byMMw\",\n",
            "            \"link\": \"https://www.youtube.com/watch?v=yJg-Y5byMMw\",\n",
            "            \"title\": \"Warriyo - Mortals (feat. Laura Brehm) [NCS Release]\",\n",
            "            \"channel\": \"NoCopyrightSounds\",\n",
            "            \"duration\": \"3:50\",\n",
            "            \"views\": 204758954,\n",
            "            \"thumbnails\": [\n",
            "                \"https://img.youtube.com/vi/yJg-Y5byMMw/default.jpg\",\n",
            "                \"https://img.youtube.com/vi/yJg-Y5byMMw/hqdefault.jpg\",\n",
            "                \"https://img.youtube.com/vi/yJg-Y5byMMw/mqdefault.jpg\",\n",
            "                \"https://img.youtube.com/vi/yJg-Y5byMMw/sddefault.jpg\",\n",
            "                \"https://img.youtube.com/vi/yJg-Y5byMMw/maxresdefault.jpg\"\n",
            "            ],\n",
            "            \"channeId\": \"UC_aEa8K-EOJ3D6gOs7HcyNg\",\n",
            "            \"publishTime\": \"5 years ago\"\n",
            "        },\n",
            "        {\n",
            "            \"index\": 8,\n",
            "            \"id\": \"8Yue9YYdNLM\",\n",
            "            \"link\": \"https://www.youtube.com/watch?v=8Yue9YYdNLM\",\n",
            "            \"title\": \"Dirty Palm - Oblivion (feat. Micah Martin) [NCS Release]\",\n",
            "            \"channel\": \"NoCopyrightSounds\",\n",
            "            \"duration\": \"3:50\",\n",
            "            \"views\": 33786182,\n",
            "            \"thumbnails\": [\n",
            "                \"https://img.youtube.com/vi/8Yue9YYdNLM/default.jpg\",\n",
            "                \"https://img.youtube.com/vi/8Yue9YYdNLM/hqdefault.jpg\",\n",
            "                \"https://img.youtube.com/vi/8Yue9YYdNLM/mqdefault.jpg\",\n",
            "                \"https://img.youtube.com/vi/8Yue9YYdNLM/sddefault.jpg\",\n",
            "                \"https://img.youtube.com/vi/8Yue9YYdNLM/maxresdefault.jpg\"\n",
            "            ],\n",
            "            \"channeId\": \"UC_aEa8K-EOJ3D6gOs7HcyNg\",\n",
            "            \"publishTime\": \"4 years ago\"\n",
            "        },\n",
            "        {\n",
            "            \"index\": 9,\n",
            "            \"id\": \"S19UcWdOA-I\",\n",
            "            \"link\": \"https://www.youtube.com/watch?v=S19UcWdOA-I\",\n",
            "            \"title\": \"Lost Sky - Fearless pt.II (feat. Chris Linton) [NCS Release]\",\n",
            "            \"channel\": \"NoCopyrightSounds\",\n",
            "            \"duration\": \"3:14\",\n",
            "            \"views\": 147700208,\n",
            "            \"thumbnails\": [\n",
            "                \"https://img.youtube.com/vi/S19UcWdOA-I/default.jpg\",\n",
            "                \"https://img.youtube.com/vi/S19UcWdOA-I/hqdefault.jpg\",\n",
            "                \"https://img.youtube.com/vi/S19UcWdOA-I/mqdefault.jpg\",\n",
            "                \"https://img.youtube.com/vi/S19UcWdOA-I/sddefault.jpg\",\n",
            "                \"https://img.youtube.com/vi/S19UcWdOA-I/maxresdefault.jpg\"\n",
            "            ],\n",
            "            \"channeId\": \"UC_aEa8K-EOJ3D6gOs7HcyNg\",\n",
            "            \"publishTime\": \"4 years ago\"\n",
            "        },\n",
            "        {\n",
            "            \"index\": 10,\n",
            "            \"id\": \"BIfkNfa77x8\",\n",
            "            \"link\": \"https://www.youtube.com/watch?v=BIfkNfa77x8\",\n",
            "            \"title\": \"\\ud83d\\udd25 Top 50 NoCopyRightSounds | Best of NCS | Most viewed ! Gaming Music | The Best of All Time | 2021\",\n",
            "            \"channel\": \"1 Views\",\n",
            "            \"duration\": \"3:00:24\",\n",
            "            \"views\": 0,\n",
            "            \"thumbnails\": [\n",
            "                \"https://img.youtube.com/vi/BIfkNfa77x8/default.jpg\",\n",
            "                \"https://img.youtube.com/vi/BIfkNfa77x8/hqdefault.jpg\",\n",
            "                \"https://img.youtube.com/vi/BIfkNfa77x8/mqdefault.jpg\",\n",
            "                \"https://img.youtube.com/vi/BIfkNfa77x8/sddefault.jpg\",\n",
            "                \"https://img.youtube.com/vi/BIfkNfa77x8/maxresdefault.jpg\"\n",
            "            ],\n",
            "            \"channeId\": \"UCsfh_8S3u6MiRxjV8SgZRdA\",\n",
            "            \"publishTime\": \"LIVE\"\n",
            "        },\n",
            "        {\n",
            "            \"index\": 11,\n",
            "            \"id\": \"IIrCDAV3EgI\",\n",
            "            \"link\": \"https://www.youtube.com/watch?v=IIrCDAV3EgI\",\n",
            "            \"title\": \"Tobu - Candyland [NCS Release]\",\n",
            "            \"channel\": \"NoCopyrightSounds\",\n",
            "            \"duration\": \"3:19\",\n",
            "            \"views\": 63376119,\n",
            "            \"thumbnails\": [\n",
            "                \"https://img.youtube.com/vi/IIrCDAV3EgI/default.jpg\",\n",
            "                \"https://img.youtube.com/vi/IIrCDAV3EgI/hqdefault.jpg\",\n",
            "                \"https://img.youtube.com/vi/IIrCDAV3EgI/mqdefault.jpg\",\n",
            "                \"https://img.youtube.com/vi/IIrCDAV3EgI/sddefault.jpg\",\n",
            "                \"https://img.youtube.com/vi/IIrCDAV3EgI/maxresdefault.jpg\"\n",
            "            ],\n",
            "            \"channeId\": \"UC_aEa8K-EOJ3D6gOs7HcyNg\",\n",
            "            \"publishTime\": \"6 years ago\"\n",
            "        },\n",
            "        {\n",
            "            \"index\": 12,\n",
            "            \"id\": \"TW9d8vYrVFQ\",\n",
            "            \"link\": \"https://www.youtube.com/watch?v=TW9d8vYrVFQ\",\n",
            "            \"title\": \"Elektronomia - Sky High [NCS Release]\",\n",
            "            \"channel\": \"NoCopyrightSounds\",\n",
            "            \"duration\": \"3:58\",\n",
            "            \"views\": 207084374,\n",
            "            \"thumbnails\": [\n",
            "                \"https://img.youtube.com/vi/TW9d8vYrVFQ/default.jpg\",\n",
            "                \"https://img.youtube.com/vi/TW9d8vYrVFQ/hqdefault.jpg\",\n",
            "                \"https://img.youtube.com/vi/TW9d8vYrVFQ/mqdefault.jpg\",\n",
            "                \"https://img.youtube.com/vi/TW9d8vYrVFQ/sddefault.jpg\",\n",
            "                \"https://img.youtube.com/vi/TW9d8vYrVFQ/maxresdefault.jpg\"\n",
            "            ],\n",
            "            \"channeId\": \"UC_aEa8K-EOJ3D6gOs7HcyNg\",\n",
            "            \"publishTime\": \"4 years ago\"\n",
            "        },\n",
            "        {\n",
            "            \"index\": 13,\n",
            "            \"id\": \"u1I9ITfzqFs\",\n",
            "            \"link\": \"https://www.youtube.com/watch?v=u1I9ITfzqFs\",\n",
            "            \"title\": \"Diviners - Savannah (feat. Philly K) [NCS Release]\",\n",
            "            \"channel\": \"NoCopyrightSounds\",\n",
            "            \"duration\": \"3:24\",\n",
            "            \"views\": 57500879,\n",
            "            \"thumbnails\": [\n",
            "                \"https://img.youtube.com/vi/u1I9ITfzqFs/default.jpg\",\n",
            "                \"https://img.youtube.com/vi/u1I9ITfzqFs/hqdefault.jpg\",\n",
            "                \"https://img.youtube.com/vi/u1I9ITfzqFs/mqdefault.jpg\",\n",
            "                \"https://img.youtube.com/vi/u1I9ITfzqFs/sddefault.jpg\",\n",
            "                \"https://img.youtube.com/vi/u1I9ITfzqFs/maxresdefault.jpg\"\n",
            "            ],\n",
            "            \"channeId\": \"UC_aEa8K-EOJ3D6gOs7HcyNg\",\n",
            "            \"publishTime\": \"6 years ago\"\n",
            "        },\n",
            "        {\n",
            "            \"index\": 14,\n",
            "            \"id\": \"6FNHe3kf8_s\",\n",
            "            \"link\": \"https://www.youtube.com/watch?v=6FNHe3kf8_s\",\n",
            "            \"title\": \"Different Heaven - Nekozilla [NCS Release]\",\n",
            "            \"channel\": \"NoCopyrightSounds\",\n",
            "            \"duration\": \"2:46\",\n",
            "            \"views\": 77047377,\n",
            "            \"thumbnails\": [\n",
            "                \"https://img.youtube.com/vi/6FNHe3kf8_s/default.jpg\",\n",
            "                \"https://img.youtube.com/vi/6FNHe3kf8_s/hqdefault.jpg\",\n",
            "                \"https://img.youtube.com/vi/6FNHe3kf8_s/mqdefault.jpg\",\n",
            "                \"https://img.youtube.com/vi/6FNHe3kf8_s/sddefault.jpg\",\n",
            "                \"https://img.youtube.com/vi/6FNHe3kf8_s/maxresdefault.jpg\"\n",
            "            ],\n",
            "            \"channeId\": \"UC_aEa8K-EOJ3D6gOs7HcyNg\",\n",
            "            \"publishTime\": \"6 years ago\"\n",
            "        },\n",
            "        {\n",
            "            \"index\": 15,\n",
            "            \"id\": \"yUXJjIvhZz8\",\n",
            "            \"link\": \"https://www.youtube.com/watch?v=yUXJjIvhZz8\",\n",
            "            \"title\": \"NCS: The Most Popular Songs of 2011 - 2021 [NCS Mix]\",\n",
            "            \"channel\": \"NoCopyrightSounds\",\n",
            "            \"duration\": \"2:59:55\",\n",
            "            \"views\": 2249690,\n",
            "            \"thumbnails\": [\n",
            "                \"https://img.youtube.com/vi/yUXJjIvhZz8/default.jpg\",\n",
            "                \"https://img.youtube.com/vi/yUXJjIvhZz8/hqdefault.jpg\",\n",
            "                \"https://img.youtube.com/vi/yUXJjIvhZz8/mqdefault.jpg\",\n",
            "                \"https://img.youtube.com/vi/yUXJjIvhZz8/sddefault.jpg\",\n",
            "                \"https://img.youtube.com/vi/yUXJjIvhZz8/maxresdefault.jpg\"\n",
            "            ],\n",
            "            \"channeId\": \"UC_aEa8K-EOJ3D6gOs7HcyNg\",\n",
            "            \"publishTime\": \"2 months ago\"\n",
            "        },\n",
            "        {\n",
            "            \"index\": 16,\n",
            "            \"id\": \"zyXmsVwZqX4\",\n",
            "            \"link\": \"https://www.youtube.com/watch?v=zyXmsVwZqX4\",\n",
            "            \"title\": \"Cartoon - Why We Lose (feat. Coleman Trapp) [NCS Release]\",\n",
            "            \"channel\": \"NoCopyrightSounds\",\n",
            "            \"duration\": \"3:34\",\n",
            "            \"views\": 184883753,\n",
            "            \"thumbnails\": [\n",
            "                \"https://img.youtube.com/vi/zyXmsVwZqX4/default.jpg\",\n",
            "                \"https://img.youtube.com/vi/zyXmsVwZqX4/hqdefault.jpg\",\n",
            "                \"https://img.youtube.com/vi/zyXmsVwZqX4/mqdefault.jpg\",\n",
            "                \"https://img.youtube.com/vi/zyXmsVwZqX4/sddefault.jpg\",\n",
            "                \"https://img.youtube.com/vi/zyXmsVwZqX4/maxresdefault.jpg\"\n",
            "            ],\n",
            "            \"channeId\": \"UC_aEa8K-EOJ3D6gOs7HcyNg\",\n",
            "            \"publishTime\": \"6 years ago\"\n",
            "        },\n",
            "        {\n",
            "            \"index\": 17,\n",
            "            \"id\": \"mj9KRKSvdbk\",\n",
            "            \"link\": \"https://www.youtube.com/watch?v=mj9KRKSvdbk\",\n",
            "            \"title\": \"Clarx - H.A.Y [NCS Release]\",\n",
            "            \"channel\": \"NoCopyrightSounds\",\n",
            "            \"duration\": \"3:44\",\n",
            "            \"views\": 37315134,\n",
            "            \"thumbnails\": [\n",
            "                \"https://img.youtube.com/vi/mj9KRKSvdbk/default.jpg\",\n",
            "                \"https://img.youtube.com/vi/mj9KRKSvdbk/hqdefault.jpg\",\n",
            "                \"https://img.youtube.com/vi/mj9KRKSvdbk/mqdefault.jpg\",\n",
            "                \"https://img.youtube.com/vi/mj9KRKSvdbk/sddefault.jpg\",\n",
            "                \"https://img.youtube.com/vi/mj9KRKSvdbk/maxresdefault.jpg\"\n",
            "            ],\n",
            "            \"channeId\": \"UC_aEa8K-EOJ3D6gOs7HcyNg\",\n",
            "            \"publishTime\": \"3 years ago\"\n",
            "        },\n",
            "        {\n",
            "            \"index\": 18,\n",
            "            \"id\": \"QglaLzo_aPk\",\n",
            "            \"link\": \"https://www.youtube.com/watch?v=QglaLzo_aPk\",\n",
            "            \"title\": \"Julius Dreisig & Zeus X Crona - Invisible [NCS Release]\",\n",
            "            \"channel\": \"NoCopyrightSounds\",\n",
            "            \"duration\": \"3:21\",\n",
            "            \"views\": 121321989,\n",
            "            \"thumbnails\": [\n",
            "                \"https://img.youtube.com/vi/QglaLzo_aPk/default.jpg\",\n",
            "                \"https://img.youtube.com/vi/QglaLzo_aPk/hqdefault.jpg\",\n",
            "                \"https://img.youtube.com/vi/QglaLzo_aPk/mqdefault.jpg\",\n",
            "                \"https://img.youtube.com/vi/QglaLzo_aPk/sddefault.jpg\",\n",
            "                \"https://img.youtube.com/vi/QglaLzo_aPk/maxresdefault.jpg\"\n",
            "            ],\n",
            "            \"channeId\": \"UC_aEa8K-EOJ3D6gOs7HcyNg\",\n",
            "            \"publishTime\": \"3 years ago\"\n",
            "        }\n",
            "    ]\n",
            "}\n"
          ]
        }
      ],
      "source": [
        " \n",
        "!pip install youtube-search-python\n",
        "from youtubesearchpython import SearchVideos\n",
        " \n",
        "search = SearchVideos(\"NoCopyrightSounds\", offset = 1, mode = \"json\", max_results = 20)\n",
        " \n",
        "print(search.result())"
      ]
    },
    {
      "cell_type": "code",
      "execution_count": null,
      "metadata": {
        "colab": {
          "base_uri": "https://localhost:8080/"
        },
        "id": "tlRCwtJAZueW",
        "outputId": "016e0dc5-423d-4e3e-c439-b6dea90f2e2d"
      },
      "outputs": [
        {
          "name": "stdout",
          "output_type": "stream",
          "text": [
            "[download] Downloading playlist: how to create android app in app studio\n",
            "[youtube:search] query \"how to create android app in app studio\": Downloading page 1\n",
            "[youtube:search] playlist how to create android app in app studio: Downloading 1 videos\n",
            "[download] Downloading video 1 of 1\n",
            "[youtube] p0ItPcqqXog: Downloading webpage\n",
            "[download] Destination: Creating First Application In Android Studio in 2021-p0ItPcqqXog.f308.webm\n",
            "\u001b[K[download] 100% of 35.12MiB in 09:13\n",
            "[download] Destination: Creating First Application In Android Studio in 2021-p0ItPcqqXog.f251.webm\n",
            "\u001b[K[download] 100% of 9.75MiB in 02:33\n",
            "[ffmpeg] Merging formats into \"Creating First Application In Android Studio in 2021-p0ItPcqqXog.webm\"\n",
            "Deleting original file Creating First Application In Android Studio in 2021-p0ItPcqqXog.f308.webm (pass -k to keep)\n",
            "Deleting original file Creating First Application In Android Studio in 2021-p0ItPcqqXog.f251.webm (pass -k to keep)\n",
            "[download] Finished downloading playlist: how to create android app in app studio\n"
          ]
        }
      ],
      "source": [
        "!youtube-dl \"ytsearch1:how to create android app in app studio\"\n"
      ]
    },
    {
      "cell_type": "code",
      "execution_count": null,
      "metadata": {
        "colab": {
          "base_uri": "https://localhost:8080/"
        },
        "id": "YC5w6ZXLYfH_",
        "outputId": "78b87106-3833-47c7-8fe0-50689773654b"
      },
      "outputs": [
        {
          "name": "stdout",
          "output_type": "stream",
          "text": [
            "Requirement already satisfied: youtube-dl in /usr/local/lib/python3.7/dist-packages (2021.12.17)\n",
            "[download] Downloading playlist: Ford Festiva+peugeot 405\n",
            "[youtube:search] query \"Ford Festiva+peugeot 405\": Downloading page 1\n",
            "[youtube:search] query \"Ford Festiva+peugeot 405\": Downloading page 2\n",
            "[youtube:search] query \"Ford Festiva+peugeot 405\": Downloading page 3\n",
            "[youtube:search] playlist Ford Festiva+peugeot 405: Downloading 50 videos\n",
            "[download] Downloading video 1 of 50\n",
            "[youtube] G9z7YtpF7UM: Downloading webpage\n",
            "\u001b[0;33mWARNING:\u001b[0m There are no annotations to write.\n",
            "[info] Writing video description metadata as JSON to: Cold start Peugeot 405SRDT 1995 & Ford Fiesta 1991 after 1 week no use -10_C-G9z7YtpF7UM.info.json\n",
            "[youtube] G9z7YtpF7UM: Downloading thumbnail ...\n",
            "[youtube] G9z7YtpF7UM: Writing thumbnail to: Cold start Peugeot 405SRDT 1995 & Ford Fiesta 1991 after 1 week no use -10_C-G9z7YtpF7UM.jpg\n",
            "[download] Destination: Cold start Peugeot 405SRDT 1995 & Ford Fiesta 1991 after 1 week no use -10_C-G9z7YtpF7UM.f135.mp4\n",
            "\u001b[K[download] 100% of 28.06MiB in 06:31\n",
            "[download] Destination: Cold start Peugeot 405SRDT 1995 & Ford Fiesta 1991 after 1 week no use -10_C-G9z7YtpF7UM.f140.m4a\n",
            "\u001b[K[download] 100% of 3.62MiB in 00:50\n",
            "[ffmpeg] Merging formats into \"Cold start Peugeot 405SRDT 1995 & Ford Fiesta 1991 after 1 week no use -10_C-G9z7YtpF7UM.mp4\"\n",
            "Deleting original file Cold start Peugeot 405SRDT 1995 & Ford Fiesta 1991 after 1 week no use -10_C-G9z7YtpF7UM.f135.mp4 (pass -k to keep)\n",
            "Deleting original file Cold start Peugeot 405SRDT 1995 & Ford Fiesta 1991 after 1 week no use -10_C-G9z7YtpF7UM.f140.m4a (pass -k to keep)\n",
            "[download] Downloading video 2 of 50\n",
            "[youtube] 52M_4h_0zoc: Downloading webpage\n",
            "\u001b[0;33mWARNING:\u001b[0m There are no annotations to write.\n",
            "[info] Writing video description metadata as JSON to: VW Polo vs. Ford Fiesta vs. Peugeot 104 - AutoWeek Classics triotest-52M_4h_0zoc.info.json\n",
            "[youtube] 52M_4h_0zoc: Downloading thumbnail ...\n",
            "[youtube] 52M_4h_0zoc: Writing thumbnail to: VW Polo vs. Ford Fiesta vs. Peugeot 104 - AutoWeek Classics triotest-52M_4h_0zoc.webp\n",
            "[download] Destination: VW Polo vs. Ford Fiesta vs. Peugeot 104 - AutoWeek Classics triotest-52M_4h_0zoc.f137.mp4\n",
            "\u001b[K[download]   2.8% of 226.23MiB at 45.79KiB/s ETA 01:22:00"
          ]
        }
      ],
      "source": [
        "!pip install youtube-dl \n",
        "# !youtube-dl --default-search gvsearch5:how to develop for android --no-playlist --write-info-json --write-annotation --write-thumbnail --write-sub --skip-download \n",
        "!youtube-dl --match-title 'ford' \"ytsearch50\":\"Ford Festiva\"+\"peugeot 405\"  --write-info-json --write-annotation --write-thumbnail --write-sub -f 'bestvideo[ext=mp4]+bestaudio[ext=m4a]/mp4'"
      ]
    },
    {
      "cell_type": "code",
      "execution_count": null,
      "metadata": {
        "colab": {
          "base_uri": "https://localhost:8080/"
        },
        "id": "lXGyHj44YFjk",
        "outputId": "2af95769-f81f-4171-d4de-107da9327c3c"
      },
      "outputs": [
        {
          "output_type": "stream",
          "name": "stdout",
          "text": [
            "Requirement already satisfied: youtube-dl in /usr/local/lib/python3.7/dist-packages (2021.12.17)\n",
            "/content\n",
            "mkdir: cannot create directory ‘/content/yolo_car_database’: File exists\n",
            "/content/yolo_car_database\n",
            "/content/yolo_car_database\n",
            "Ford_Festiva  t.txt\n",
            "[download] Downloading playlist: Ford Festiva+peugeot 405\n",
            "[youtube:search] query \"Ford Festiva+peugeot 405\": Downloading page 1\n",
            "[youtube:search] query \"Ford Festiva+peugeot 405\": Downloading page 2\n",
            "[youtube:search] query \"Ford Festiva+peugeot 405\": Downloading page 3\n",
            "[youtube:search] playlist Ford Festiva+peugeot 405: Downloading 50 videos\n",
            "[download] Downloading video 1 of 50\n",
            "[youtube] G9z7YtpF7UM: Downloading webpage\n",
            "\u001b[0;33mWARNING:\u001b[0m Unable to download webpage: HTTP Error 429: Too Many Requests\n",
            "[youtube] G9z7YtpF7UM: Downloading API JSON\n",
            "[youtube] G9z7YtpF7UM: Downloading API JSON\n",
            "\u001b[0;33mWARNING:\u001b[0m There are no annotations to write.\n",
            "[info] Writing video description metadata as JSON to: Cold start Peugeot 405SRDT 1995 & Ford Fiesta 1991 after 1 week no use -10_C-G9z7YtpF7UM.info.json\n",
            "[youtube] G9z7YtpF7UM: Downloading thumbnail ...\n",
            "[youtube] G9z7YtpF7UM: Writing thumbnail to: Cold start Peugeot 405SRDT 1995 & Ford Fiesta 1991 after 1 week no use -10_C-G9z7YtpF7UM.jpg\n",
            "[download] Destination: Cold start Peugeot 405SRDT 1995 & Ford Fiesta 1991 after 1 week no use -10_C-G9z7YtpF7UM.f135.mp4\n",
            "\u001b[K[download] 100% of 28.06MiB in 06:13\n",
            "[download] Destination: Cold start Peugeot 405SRDT 1995 & Ford Fiesta 1991 after 1 week no use -10_C-G9z7YtpF7UM.f140.m4a\n",
            "\u001b[K[download] 100% of 3.62MiB in 00:48\n",
            "[ffmpeg] Merging formats into \"Cold start Peugeot 405SRDT 1995 & Ford Fiesta 1991 after 1 week no use -10_C-G9z7YtpF7UM.mp4\"\n",
            "Deleting original file Cold start Peugeot 405SRDT 1995 & Ford Fiesta 1991 after 1 week no use -10_C-G9z7YtpF7UM.f135.mp4 (pass -k to keep)\n",
            "Deleting original file Cold start Peugeot 405SRDT 1995 & Ford Fiesta 1991 after 1 week no use -10_C-G9z7YtpF7UM.f140.m4a (pass -k to keep)\n",
            "[download] Downloading video 2 of 50\n",
            "[youtube] eK8vHpk3cuE: Downloading webpage\n",
            "\u001b[0;33mWARNING:\u001b[0m Unable to download webpage: HTTP Error 429: Too Many Requests\n",
            "[youtube] eK8vHpk3cuE: Downloading API JSON\n",
            "[youtube] eK8vHpk3cuE: Downloading API JSON\n",
            "\u001b[0;33mWARNING:\u001b[0m There are no annotations to write.\n",
            "[info] Writing video description metadata as JSON to: Ford festiva restoration-eK8vHpk3cuE.info.json\n",
            "[youtube] eK8vHpk3cuE: Downloading thumbnail ...\n",
            "[youtube] eK8vHpk3cuE: Writing thumbnail to: Ford festiva restoration-eK8vHpk3cuE.jpg\n",
            "[download] Destination: Ford festiva restoration-eK8vHpk3cuE.f299.mp4\n",
            "\u001b[K[download] 100% of 326.23MiB in 01:10:19\n",
            "[download] Destination: Ford festiva restoration-eK8vHpk3cuE.f140.m4a\n",
            "\u001b[K[download] 100% of 9.43MiB in 01:54\n",
            "[ffmpeg] Merging formats into \"Ford festiva restoration-eK8vHpk3cuE.mp4\"\n",
            "Deleting original file Ford festiva restoration-eK8vHpk3cuE.f299.mp4 (pass -k to keep)\n",
            "Deleting original file Ford festiva restoration-eK8vHpk3cuE.f140.m4a (pass -k to keep)\n",
            "[download] Downloading video 3 of 50\n",
            "[download] \"Pikes Peak Peugeot 405 T16\" title did not match pattern \"ford \"\n",
            "[download] Downloading video 4 of 50\n",
            "[download] \"PEUGEOT 405 ADVERT\" title did not match pattern \"ford \"\n",
            "[download] Downloading video 5 of 50\n",
            "[youtube] eqYnTA-HtHc: Downloading webpage\n",
            "\u001b[0;33mWARNING:\u001b[0m Unable to download webpage: HTTP Error 429: Too Many Requests\n",
            "[youtube] eqYnTA-HtHc: Downloading API JSON\n",
            "[youtube] eqYnTA-HtHc: Downloading API JSON\n",
            "\u001b[0;33mWARNING:\u001b[0m There are no annotations to write.\n",
            "[info] Writing video description metadata as JSON to: Here’s how the Ford Festiva aspired to be more than just a cheap little car-eqYnTA-HtHc.info.json\n",
            "[youtube] eqYnTA-HtHc: Downloading thumbnail ...\n",
            "[youtube] eqYnTA-HtHc: Writing thumbnail to: Here’s how the Ford Festiva aspired to be more than just a cheap little car-eqYnTA-HtHc.jpg\n",
            "[download] Destination: Here’s how the Ford Festiva aspired to be more than just a cheap little car-eqYnTA-HtHc.f137.mp4\n",
            "\u001b[K[download] 100% of 116.47MiB in 46:38\n",
            "[download] Destination: Here’s how the Ford Festiva aspired to be more than just a cheap little car-eqYnTA-HtHc.f140.m4a\n",
            "\u001b[K[download] 100% of 8.88MiB in 03:32\n",
            "[ffmpeg] Merging formats into \"Here’s how the Ford Festiva aspired to be more than just a cheap little car-eqYnTA-HtHc.mp4\"\n",
            "Deleting original file Here’s how the Ford Festiva aspired to be more than just a cheap little car-eqYnTA-HtHc.f137.mp4 (pass -k to keep)\n",
            "Deleting original file Here’s how the Ford Festiva aspired to be more than just a cheap little car-eqYnTA-HtHc.f140.m4a (pass -k to keep)\n",
            "[download] Downloading video 6 of 50\n",
            "[youtube] xFLckB7vOQc: Downloading webpage\n",
            "\u001b[0;33mWARNING:\u001b[0m Unable to download webpage: HTTP Error 429: Too Many Requests\n",
            "[youtube] xFLckB7vOQc: Downloading API JSON\n",
            "[youtube] xFLckB7vOQc: Downloading MPD manifest\n",
            "[youtube] xFLckB7vOQc: Downloading API JSON\n",
            "\u001b[0;33mWARNING:\u001b[0m There are no annotations to write.\n",
            "[info] Writing video description metadata as JSON to: The 1989 Ford Festiva is a 50mpg Classic Hatchback-xFLckB7vOQc.info.json\n",
            "[youtube] xFLckB7vOQc: Downloading thumbnail ...\n",
            "[youtube] xFLckB7vOQc: Writing thumbnail to: The 1989 Ford Festiva is a 50mpg Classic Hatchback-xFLckB7vOQc.webp\n",
            "[download] Destination: The 1989 Ford Festiva is a 50mpg Classic Hatchback-xFLckB7vOQc.f137.mp4\n",
            "\u001b[K[download]  86.1% of 293.89MiB at 71.90KiB/s ETA 09:43"
          ]
        }
      ],
      "source": [
        "!pip install youtube-dl \n",
        "%cd '/content/'\n",
        "\n",
        "import os\n",
        "try:\n",
        "    os.remove('/content/yolo_car_database')\n",
        "except OSError:\n",
        "    pass\n",
        "\n",
        "# !rm -rf '/content/yolo_car_database'\n",
        "!mkdir '/content/yolo_car_database'\n",
        "%cd '/content/yolo_car_database'\n",
        "!echo 't' >> t.txt\n",
        "!pwd \n",
        "!ls\n",
        "# !youtube-dl --default-search gvsearch5:how to develop for android --no-playlist --write-info-json --write-annotation --write-thumbnail --write-sub --skip-download \n",
        "!youtube-dl --match-title 'ford ' \"ytsearch50\":\"Ford Festiva\"+\"peugeot 405\"  --write-info-json --write-annotation --write-thumbnail --write-sub -f 'bestvideo[ext=mp4]+bestaudio[ext=m4a]/mp4'\n",
        "\n",
        "# !rm -rf \"/content/gdrive/My Drive/yolo_car_databe\" && mkdir \"/content/gdrive/My Drive/yolo_car_databe\"\n",
        "\n",
        "!cp -r '/content/yolo_car_database' \"/content/gdrive/My Drive/\""
      ]
    },
    {
      "cell_type": "code",
      "execution_count": null,
      "metadata": {
        "id": "1NZ2E1nmxu6h"
      },
      "outputs": [],
      "source": [
        "!ls '/content/yolo_car_database2'"
      ]
    },
    {
      "cell_type": "code",
      "execution_count": null,
      "metadata": {
        "id": "Bj1psrErHor8"
      },
      "outputs": [],
      "source": [
        "!youtube-dl --match-title 'ford' --add-metadata --write-thumbnail --list-thumbnails  --rm-cache-dir --ignore-errors  --skip-download --get-url -f bestvideo+bestaudio/best  --default-search \"ytsearch10:Ford Festiva\"# >> ford_video_list.txt \n"
      ]
    },
    {
      "cell_type": "code",
      "execution_count": null,
      "metadata": {
        "id": "Uc6B0RMJJDJF"
      },
      "outputs": [],
      "source": [
        "\n",
        "!pip install youtube-dl\n",
        "!echo '' > ford_video_list.txt\n",
        "!chmod 755 ford_video_list.txt\n",
        "\n",
        "!youtube-dl --match-title 'ford' --add-metadata --write-thumbnail --list-thumbnails    --mark-watched --write-info-json 'ford_video_description_json.txt' --write-description 'ford_video_description.txt'  --cookies='Search-youtube-url-file.txt' --ignore-errors  --skip-download --get-url -f bestvideo+bestaudio/best --default-search \"ytsearch50:\" \"Ford Festiva\" >> ford_video_list.txt \n",
        "\n",
        "!echo '*****End of test 1 ******'"
      ]
    }
  ],
  "metadata": {
    "colab": {
      "collapsed_sections": [],
      "name": "Yoututbe Metadata scrubbing",
      "provenance": [],
      "toc_visible": true,
      "include_colab_link": true
    },
    "kernelspec": {
      "display_name": "Python 3",
      "name": "python3"
    }
  },
  "nbformat": 4,
  "nbformat_minor": 0
}